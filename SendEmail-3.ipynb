{
 "cells": [
  {
   "cell_type": "code",
   "execution_count": 14,
   "id": "b5122769",
   "metadata": {},
   "outputs": [
    {
     "name": "stdout",
     "output_type": "stream",
     "text": [
      "Mail Sent\n"
     ]
    }
   ],
   "source": [
    "import smtplib\n",
    "from email.mime.multipart import MIMEMultipart\n",
    "from email.mime.text import MIMEText\n",
    "import csv\n",
    "message['Subject'] = 'A test mail sent by Python.'   #The subject line\n",
    "mail_content = '''Hello,\n",
    "Please find the required link below:-\n",
    "'''\n",
    "#The mail addresses and password\n",
    "\n",
    "sender_address = 'ajitarth@gmail.com'\n",
    "sender_pass = 'acf'\n",
    "receiver_address = 'ajit@gmail.com'\n",
    "#Setup the MIME\n",
    "message = MIMEMultipart()\n",
    "message['From'] = sender_address\n",
    "message['To'] = receiver_address\n",
    "\n",
    "#Create SMTP session for sending the mail\n",
    "session = smtplib.SMTP('smtp.gmail.com', 587) #use gmail with port\n",
    "session.starttls() #enable security\n",
    "session.login(sender_address, sender_pass) #login with mail_id and password\n",
    "with open(\"/Users/ajit_1/Downloads/links_26Aug2022_131959(N).csv\") as file:\n",
    "        reader = csv.reader(file)\n",
    "        next(reader)\n",
    "#text = message.as_string()\n",
    "session.sendmail(sender_address, receiver_address, mail_content)\n",
    "session.quit()\n",
    "print('Mail Sent')"
   ]
  },
  {
   "cell_type": "code",
   "execution_count": 18,
   "id": "00990810",
   "metadata": {},
   "outputs": [
    {
     "name": "stdout",
     "output_type": "stream",
     "text": [
      "Email to agent successfully sent!\n",
      "\n",
      "\n",
      "Email to agent successfully sent!\n",
      "\n",
      "\n",
      "Email to agent successfully sent!\n",
      "\n",
      "\n",
      "Email to agent successfully sent!\n",
      "\n",
      "\n",
      "Email to agent successfully sent!\n",
      "\n",
      "\n",
      "Email to agent successfully sent!\n",
      "\n",
      "\n"
     ]
    }
   ],
   "source": [
    "\n",
    "import pandas as pd\n",
    "import smtplib\n",
    "from email.mime.multipart import MIMEMultipart\n",
    "from email.mime.text import MIMEText\n",
    "\n",
    "'''\n",
    "Change these to your credentials and name\n",
    "'''\n",
    "sender_name = \"Ajit\"\n",
    "sender_email = \"@gmail.com\"\n",
    "sender_password = \"\"\n",
    "mail_body = \"Below is the required link\\n <link>\"\n",
    "\n",
    "\n",
    "server = smtplib.SMTP_SSL('smtp.gmail.com', 465)\n",
    "server.ehlo()\n",
    "server.login(sender_email, sender_password)\n",
    "\n",
    "# Read the file\n",
    "email_list = pd.read_csv(\"/Users/ajit_1/Downloads/links_26Aug2022_131959(NM).csv\")\n",
    "\n",
    "# Get all the  Email Addreses and links\n",
    "\n",
    "email = email_list['email']\n",
    "link = email_list['link']\n",
    "\n",
    "\n",
    "# Loop through the emails\n",
    "for index in email_list.index:\n",
    "\n",
    "    # Get each records  email, link \n",
    "    \n",
    "    email = email_list['email'][index]\n",
    "    link = email_list['link'][index]\n",
    "    \n",
    "\n",
    "    # Create the email to send\n",
    "    full_email = (\"From:  {sender_email}\\n\"\n",
    "                  \"To: {email}\\n\"\n",
    "                  \"Subject: Dear agent, please find the link below.\\n\\n\"\n",
    "                  \"Below is the link \\n {link}\"\n",
    "                  .format(sender_name=sender_name,sender_email=sender_email, email=email, link=link,mail_body=mail_body))\n",
    "\n",
    "   \n",
    "    try:\n",
    "        server.sendmail(sender_email, email, full_email)\n",
    "        print('Email to agent successfully sent!\\n\\n'.format(email))\n",
    "    except Exception as e:\n",
    "        print('Email to {} could not be sent :( because {}\\n\\n'.format(email, str(e)))\n",
    "\n",
    "# Close the smtp server\n",
    "server.close()\n",
    "\n",
    "\n"
   ]
  }
 ],
 "metadata": {
  "kernelspec": {
   "display_name": "Python 3 (ipykernel)",
   "language": "python",
   "name": "python3"
  },
  "language_info": {
   "codemirror_mode": {
    "name": "ipython",
    "version": 3
   },
   "file_extension": ".py",
   "mimetype": "text/x-python",
   "name": "python",
   "nbconvert_exporter": "python",
   "pygments_lexer": "ipython3",
   "version": "3.9.7"
  }
 },
 "nbformat": 4,
 "nbformat_minor": 5
}
